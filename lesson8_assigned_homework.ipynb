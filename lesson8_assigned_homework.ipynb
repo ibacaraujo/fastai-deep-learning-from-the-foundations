{
  "nbformat": 4,
  "nbformat_minor": 0,
  "metadata": {
    "colab": {
      "name": "lesson8_assigned_homework.ipynb",
      "provenance": [],
      "collapsed_sections": [],
      "include_colab_link": true
    },
    "kernelspec": {
      "name": "python3",
      "display_name": "Python 3"
    }
  },
  "cells": [
    {
      "cell_type": "markdown",
      "metadata": {
        "id": "view-in-github",
        "colab_type": "text"
      },
      "source": [
        "<a href=\"https://colab.research.google.com/github/ibacaraujo/fastai-deep-learning-from-the-foundations/blob/master/lesson8_assigned_homework.ipynb\" target=\"_parent\"><img src=\"https://colab.research.google.com/assets/colab-badge.svg\" alt=\"Open In Colab\"/></a>"
      ]
    },
    {
      "cell_type": "markdown",
      "metadata": {
        "id": "EfpR_nQyGEeY",
        "colab_type": "text"
      },
      "source": [
        "# Lesson 8 Assigned Homework"
      ]
    },
    {
      "cell_type": "markdown",
      "metadata": {
        "id": "gpuDWL2lGHk5",
        "colab_type": "text"
      },
      "source": [
        "* Review concepts from Course 1 (lessons 1 - 7): Affine Functions & \n",
        "non-linearities; Parameters & activations; Random initialization & transfer learning; SGD Momentum Adam (not sure what this one is, Jeremy's head covers it in the video); Convolutions; Batch-norm; Dropout; Data augmentation; Weight decay; Res/dense blocks; Image classification and regression; Embeddings; Continuous & Categorical variables; Collaborative filtering; Language models; NLP classification; Segmentation; U-net; GANS\n",
        "* Make sure you understand broadcasting\n",
        "* Read section 2.2 in Delving Deep into Rectifiers: Surpassing Human-Level Performance on ImageNet Classification\n",
        "* Try to replicate as much of the notebooks as you can without peeking; when you get stuck, peek at the lesson notebook, but then close it and try to do it yourself"
      ]
    },
    {
      "cell_type": "markdown",
      "metadata": {
        "id": "2y3HcwM4Iwzv",
        "colab_type": "text"
      },
      "source": [
        "## Get data"
      ]
    },
    {
      "cell_type": "code",
      "metadata": {
        "id": "i7dsruGUIx1r",
        "colab_type": "code",
        "colab": {}
      },
      "source": [
        "from pathlib import Path\n",
        "from IPython.core.debugger import set_trace\n",
        "from fastai import datasets\n",
        "import pickle, gzip, math, torch, matplotlib as mpl\n",
        "import matplotlib.pyplot as plt"
      ],
      "execution_count": 0,
      "outputs": []
    },
    {
      "cell_type": "code",
      "metadata": {
        "id": "KHoRFxAzIOFC",
        "colab_type": "code",
        "colab": {}
      },
      "source": [
        "from torch import tensor"
      ],
      "execution_count": 0,
      "outputs": []
    },
    {
      "cell_type": "code",
      "metadata": {
        "id": "eoFwPKgyJBUX",
        "colab_type": "code",
        "colab": {
          "base_uri": "https://localhost:8080/",
          "height": 34
        },
        "outputId": "f0840b0b-0b8d-483f-b28b-a8fb7a9814bb"
      },
      "source": [
        "MNIST_URL = 'http://deeplearning.net/data/mnist/mnist.pkl'\n",
        "path = datasets.download_data(MNIST_URL, ext='.gz'); path"
      ],
      "execution_count": 15,
      "outputs": [
        {
          "output_type": "execute_result",
          "data": {
            "text/plain": [
              "PosixPath('/root/.fastai/data/mnist.pkl.gz')"
            ]
          },
          "metadata": {
            "tags": []
          },
          "execution_count": 15
        }
      ]
    },
    {
      "cell_type": "code",
      "metadata": {
        "id": "aAyb1a_1JKFY",
        "colab_type": "code",
        "colab": {}
      },
      "source": [
        "with gzip.open(path, 'rb') as f:\n",
        "  ((x_train, y_train), (x_valid, y_valid), _) = pickle.load(f, encoding='latin-1')"
      ],
      "execution_count": 0,
      "outputs": []
    },
    {
      "cell_type": "code",
      "metadata": {
        "id": "6MxB4gh6JdlP",
        "colab_type": "code",
        "colab": {}
      },
      "source": [
        "x_train, y_train, x_valid, y_valid = map(tensor, (x_train, y_train, x_valid, y_valid))"
      ],
      "execution_count": 0,
      "outputs": []
    },
    {
      "cell_type": "code",
      "metadata": {
        "id": "d9u8v0TzJql9",
        "colab_type": "code",
        "colab": {}
      },
      "source": [
        "nrows, ncols = x_train.shape"
      ],
      "execution_count": 0,
      "outputs": []
    },
    {
      "cell_type": "code",
      "metadata": {
        "id": "pTPuF3UjJtp9",
        "colab_type": "code",
        "colab": {
          "base_uri": "https://localhost:8080/",
          "height": 221
        },
        "outputId": "2eabd26c-fc17-4ea8-ef14-5f0e0d3e1e50"
      },
      "source": [
        "x_train, x_train.shape, y_train, y_train.shape, y_train.min(), y_train.max()"
      ],
      "execution_count": 23,
      "outputs": [
        {
          "output_type": "execute_result",
          "data": {
            "text/plain": [
              "(tensor([[0., 0., 0.,  ..., 0., 0., 0.],\n",
              "         [0., 0., 0.,  ..., 0., 0., 0.],\n",
              "         [0., 0., 0.,  ..., 0., 0., 0.],\n",
              "         ...,\n",
              "         [0., 0., 0.,  ..., 0., 0., 0.],\n",
              "         [0., 0., 0.,  ..., 0., 0., 0.],\n",
              "         [0., 0., 0.,  ..., 0., 0., 0.]]),\n",
              " torch.Size([50000, 784]),\n",
              " tensor([5, 0, 4,  ..., 8, 4, 8]),\n",
              " torch.Size([50000]),\n",
              " tensor(0),\n",
              " tensor(9))"
            ]
          },
          "metadata": {
            "tags": []
          },
          "execution_count": 23
        }
      ]
    },
    {
      "cell_type": "code",
      "metadata": {
        "id": "L90vhp2BJ38S",
        "colab_type": "code",
        "colab": {}
      },
      "source": [
        "img = x_train[0]"
      ],
      "execution_count": 0,
      "outputs": []
    },
    {
      "cell_type": "code",
      "metadata": {
        "id": "0626YwlxJ6tc",
        "colab_type": "code",
        "colab": {
          "base_uri": "https://localhost:8080/",
          "height": 34
        },
        "outputId": "d20abe1d-816f-4a89-cd01-d569bf4a8c04"
      },
      "source": [
        "img.view(28, 28).type()"
      ],
      "execution_count": 25,
      "outputs": [
        {
          "output_type": "execute_result",
          "data": {
            "text/plain": [
              "'torch.FloatTensor'"
            ]
          },
          "metadata": {
            "tags": []
          },
          "execution_count": 25
        }
      ]
    },
    {
      "cell_type": "code",
      "metadata": {
        "id": "1rrv1kZGKCal",
        "colab_type": "code",
        "colab": {}
      },
      "source": [
        "mpl.rcParams['image.cmap'] = 'gray'"
      ],
      "execution_count": 0,
      "outputs": []
    },
    {
      "cell_type": "code",
      "metadata": {
        "id": "_ZZMngIIJ9Cy",
        "colab_type": "code",
        "colab": {
          "base_uri": "https://localhost:8080/",
          "height": 286
        },
        "outputId": "6b83b05d-e453-410f-fade-435da82d1691"
      },
      "source": [
        "plt.imshow(img.view(28,28))"
      ],
      "execution_count": 28,
      "outputs": [
        {
          "output_type": "execute_result",
          "data": {
            "text/plain": [
              "<matplotlib.image.AxesImage at 0x7f91a1c70470>"
            ]
          },
          "metadata": {
            "tags": []
          },
          "execution_count": 28
        },
        {
          "output_type": "display_data",
          "data": {
            "image/png": "[encoded data removed]",
            "text/plain": [
              "<Figure size 432x288 with 1 Axes>"
            ]
          },
          "metadata": {
            "tags": []
          }
        }
      ]
    },
    {
      "cell_type": "markdown",
      "metadata": {
        "id": "PXYGeR3cKHXG",
        "colab_type": "text"
      },
      "source": [
        "## Initial Python model"
      ]
    },
    {
      "cell_type": "code",
      "metadata": {
        "id": "cRNEviQzKHBT",
        "colab_type": "code",
        "colab": {}
      },
      "source": [
        "weights = torch.randn(784, 10)\n",
        "bias = torch.zeros(10)"
      ],
      "execution_count": 0,
      "outputs": []
    },
    {
      "cell_type": "code",
      "metadata": {
        "id": "jHrfFoblF2mK",
        "colab_type": "code",
        "colab": {}
      },
      "source": [
        "def matmul(a, b):\n",
        "  a_nrows, a_ncols = a.shape\n",
        "  b_nrows, b_ncols = b.shape\n",
        "  assert a_ncols == b_nrows\n",
        "  c = torch.zeros(a_nrows, b_ncols)\n",
        "  for i in range(a_nrows):\n",
        "    for j in range(b_ncols):\n",
        "      for k in range(a_ncols):\n",
        "        c[i, j] += a[i,k] * b[k,j]\n",
        "\n",
        "  print(c.shape)\n",
        "  print(c)\n",
        "\n",
        "  return c"
      ],
      "execution_count": 0,
      "outputs": []
    },
    {
      "cell_type": "code",
      "metadata": {
        "id": "nX4RN7eEILgZ",
        "colab_type": "code",
        "colab": {}
      },
      "source": [
        "m1 = x_train[:5]\n",
        "m2 = weights"
      ],
      "execution_count": 0,
      "outputs": []
    },
    {
      "cell_type": "code",
      "metadata": {
        "id": "72ZnMR0oK0-e",
        "colab_type": "code",
        "colab": {
          "base_uri": "https://localhost:8080/",
          "height": 34
        },
        "outputId": "0c1662c5-cf7c-4815-a876-a6441a625a17"
      },
      "source": [
        "m1.shape, m2.shape"
      ],
      "execution_count": 36,
      "outputs": [
        {
          "output_type": "execute_result",
          "data": {
            "text/plain": [
              "(torch.Size([5, 784]), torch.Size([784, 10]))"
            ]
          },
          "metadata": {
            "tags": []
          },
          "execution_count": 36
        }
      ]
    },
    {
      "cell_type": "code",
      "metadata": {
        "id": "AY0mzvGBIWja",
        "colab_type": "code",
        "colab": {
          "base_uri": "https://localhost:8080/",
          "height": 204
        },
        "outputId": "bf6d0f48-2bf8-471e-8454-1f91e4b0db15"
      },
      "source": [
        "t = matmul(m1, m2)"
      ],
      "execution_count": 53,
      "outputs": [
        {
          "output_type": "stream",
          "text": [
            "torch.Size([5, 10])\n",
            "tensor([[ -1.0592, -12.4946, -12.0338,  -6.5528,  -1.7379, -16.5611,   9.2848,\n",
            "           7.1576,  -4.1207,  -6.9489],\n",
            "        [ -4.5072, -15.5858, -15.4199,   2.8232,  10.5785, -15.5846,   4.4661,\n",
            "         -19.8433,   0.1217,  -5.0144],\n",
            "        [  2.8217,   2.0356,  -3.7009,   1.1993,  -5.0093,   3.5292,   6.6322,\n",
            "          -9.4532, -15.8133,  -3.1258],\n",
            "        [  2.1719,  -0.4643,  -7.4518,  10.7623,   6.6971,  -3.5970,  -8.0052,\n",
            "         -10.7011,  -3.4443, -12.2180],\n",
            "        [  0.6295,   5.7265,  -2.2374,   6.0371, -11.9504, -12.0825,   5.4980,\n",
            "          -3.3332, -14.6333,  -2.6428]])\n"
          ],
          "name": "stdout"
        }
      ]
    },
    {
      "cell_type": "code",
      "metadata": {
        "id": "kdUxcpEIKXrn",
        "colab_type": "code",
        "colab": {
          "base_uri": "https://localhost:8080/",
          "height": 187
        },
        "outputId": "3e73f34a-6e5a-498f-9b21-b00c0b00475c"
      },
      "source": [
        "t"
      ],
      "execution_count": 42,
      "outputs": [
        {
          "output_type": "execute_result",
          "data": {
            "text/plain": [
              "tensor([[ 71.8668,  77.7240, 129.9778, 159.6739, 127.4917, 118.3675, 127.5454,\n",
              "          69.2612, 145.5829,  87.3750],\n",
              "        [ 85.8121,  91.6693, 143.9231, 173.6191, 141.4370, 132.3129, 141.4908,\n",
              "          83.2065, 159.5282, 101.3204],\n",
              "        [ 40.2965,  46.1537,  98.4074, 128.1036,  95.9213,  86.7972,  95.9751,\n",
              "          37.6909, 114.0125,  55.8047],\n",
              "        [ 31.2809,  37.1380,  89.3918, 119.0880,  86.9057,  77.7816,  86.9594,\n",
              "          28.6752, 104.9969,  46.7890],\n",
              "        [ 55.0269,  60.8842, 113.1379, 142.8340, 110.6518, 101.5277, 110.7056,\n",
              "          52.4213, 128.7430,  70.5352]])"
            ]
          },
          "metadata": {
            "tags": []
          },
          "execution_count": 42
        }
      ]
    },
    {
      "cell_type": "code",
      "metadata": {
        "id": "5EnwN9bxModn",
        "colab_type": "code",
        "colab": {}
      },
      "source": [
        "# elementwise matmul\n",
        "def elementwise_matmul(a, b):\n",
        "  a_nrows, a_ncols = a.shape\n",
        "  b_nrows, b_ncols = b.shape\n",
        "  assert a_ncols == b_nrows\n",
        "  c = torch.zeros(a_nrows, b_ncols)\n",
        "  for i in range(a_nrows):\n",
        "    for j in range(b_ncols):\n",
        "      c[i,j] = (a[i,:] * b[:,j]).sum()\n",
        "    \n",
        "  print(c.shape)\n",
        "  print(c)\n",
        "\n",
        "  return c"
      ],
      "execution_count": 0,
      "outputs": []
    },
    {
      "cell_type": "code",
      "metadata": {
        "id": "2zUnnbmCNI83",
        "colab_type": "code",
        "colab": {
          "base_uri": "https://localhost:8080/",
          "height": 204
        },
        "outputId": "8dc31d21-9876-4f9d-d873-ec7ef6294b6a"
      },
      "source": [
        "t2 = elementwise_matmul(m1, m2)"
      ],
      "execution_count": 57,
      "outputs": [
        {
          "output_type": "stream",
          "text": [
            "torch.Size([5, 10])\n",
            "tensor([[ -1.0592, -12.4946, -12.0338,  -6.5528,  -1.7379, -16.5611,   9.2848,\n",
            "           7.1576,  -4.1207,  -6.9489],\n",
            "        [ -4.5072, -15.5858, -15.4199,   2.8232,  10.5785, -15.5846,   4.4661,\n",
            "         -19.8433,   0.1217,  -5.0144],\n",
            "        [  2.8217,   2.0356,  -3.7009,   1.1993,  -5.0093,   3.5292,   6.6322,\n",
            "          -9.4532, -15.8133,  -3.1258],\n",
            "        [  2.1719,  -0.4643,  -7.4518,  10.7623,   6.6971,  -3.5970,  -8.0052,\n",
            "         -10.7011,  -3.4443, -12.2180],\n",
            "        [  0.6295,   5.7265,  -2.2374,   6.0371, -11.9504, -12.0825,   5.4980,\n",
            "          -3.3332, -14.6333,  -2.6428]])\n"
          ],
          "name": "stdout"
        }
      ]
    },
    {
      "cell_type": "code",
      "metadata": {
        "id": "RJ06l46YOvYT",
        "colab_type": "code",
        "colab": {
          "base_uri": "https://localhost:8080/",
          "height": 187
        },
        "outputId": "c269c32c-a128-4948-df67-66707d03edc7"
      },
      "source": [
        "t2"
      ],
      "execution_count": 66,
      "outputs": [
        {
          "output_type": "execute_result",
          "data": {
            "text/plain": [
              "tensor([[ -1.0592, -12.4946, -12.0338,  -6.5528,  -1.7379, -16.5611,   9.2848,\n",
              "           7.1576,  -4.1207,  -6.9489],\n",
              "        [ -4.5072, -15.5858, -15.4199,   2.8232,  10.5785, -15.5846,   4.4661,\n",
              "         -19.8433,   0.1217,  -5.0144],\n",
              "        [  2.8217,   2.0356,  -3.7009,   1.1993,  -5.0093,   3.5292,   6.6322,\n",
              "          -9.4532, -15.8133,  -3.1258],\n",
              "        [  2.1719,  -0.4643,  -7.4518,  10.7623,   6.6971,  -3.5970,  -8.0052,\n",
              "         -10.7011,  -3.4443, -12.2180],\n",
              "        [  0.6295,   5.7265,  -2.2374,   6.0371, -11.9504, -12.0825,   5.4980,\n",
              "          -3.3332, -14.6333,  -2.6428]])"
            ]
          },
          "metadata": {
            "tags": []
          },
          "execution_count": 66
        }
      ]
    },
    {
      "cell_type": "code",
      "metadata": {
        "id": "XbVdyPMUOXlF",
        "colab_type": "code",
        "colab": {}
      },
      "source": [
        "a = tensor([10., 20, 30])"
      ],
      "execution_count": 0,
      "outputs": []
    },
    {
      "cell_type": "code",
      "metadata": {
        "id": "GwaLlkJTObuL",
        "colab_type": "code",
        "colab": {
          "base_uri": "https://localhost:8080/",
          "height": 34
        },
        "outputId": "920d6549-bf98-4483-ca40-04ad13d98e44"
      },
      "source": [
        "a.shape"
      ],
      "execution_count": 59,
      "outputs": [
        {
          "output_type": "execute_result",
          "data": {
            "text/plain": [
              "torch.Size([3])"
            ]
          },
          "metadata": {
            "tags": []
          },
          "execution_count": 59
        }
      ]
    },
    {
      "cell_type": "code",
      "metadata": {
        "id": "Dh13MqOIOd4n",
        "colab_type": "code",
        "colab": {
          "base_uri": "https://localhost:8080/",
          "height": 34
        },
        "outputId": "23a3adc7-6e9c-45db-f562-cced45d5a117"
      },
      "source": [
        "a.unsqueeze(-1).shape"
      ],
      "execution_count": 60,
      "outputs": [
        {
          "output_type": "execute_result",
          "data": {
            "text/plain": [
              "torch.Size([3, 1])"
            ]
          },
          "metadata": {
            "tags": []
          },
          "execution_count": 60
        }
      ]
    },
    {
      "cell_type": "code",
      "metadata": {
        "id": "noZOODKUN5sM",
        "colab_type": "code",
        "colab": {}
      },
      "source": [
        "# broadcast_matmul\n",
        "def broadcast_matmul(a, b):\n",
        "  a_nrows, a_ncols = a.shape\n",
        "  b_nrows, b_ncols = b.shape\n",
        "  assert a_ncols == b_nrows\n",
        "  c = torch.zeros(a_nrows, b_ncols)\n",
        "  for i in range(a_nrows):\n",
        "    c[i] = (a[i].unsqueeze(-1) * b).sum(dim=0)\n",
        "\n",
        "  print(c.shape)\n",
        "  print(c)\n",
        "\n",
        "  return c"
      ],
      "execution_count": 0,
      "outputs": []
    },
    {
      "cell_type": "code",
      "metadata": {
        "id": "I583Sav2OomW",
        "colab_type": "code",
        "colab": {
          "base_uri": "https://localhost:8080/",
          "height": 204
        },
        "outputId": "5880c1bd-d611-4457-e7b1-f67001921759"
      },
      "source": [
        "t3 = broadcast_matmul(m1, m2)"
      ],
      "execution_count": 64,
      "outputs": [
        {
          "output_type": "stream",
          "text": [
            "torch.Size([5, 10])\n",
            "tensor([[ -1.0592, -12.4946, -12.0338,  -6.5528,  -1.7379, -16.5611,   9.2848,\n",
            "           7.1576,  -4.1207,  -6.9489],\n",
            "        [ -4.5072, -15.5858, -15.4199,   2.8232,  10.5785, -15.5846,   4.4661,\n",
            "         -19.8433,   0.1217,  -5.0144],\n",
            "        [  2.8217,   2.0356,  -3.7009,   1.1993,  -5.0093,   3.5292,   6.6322,\n",
            "          -9.4532, -15.8133,  -3.1258],\n",
            "        [  2.1719,  -0.4643,  -7.4518,  10.7623,   6.6971,  -3.5970,  -8.0052,\n",
            "         -10.7011,  -3.4443, -12.2180],\n",
            "        [  0.6295,   5.7265,  -2.2374,   6.0371, -11.9504, -12.0825,   5.4980,\n",
            "          -3.3332, -14.6333,  -2.6428]])\n"
          ],
          "name": "stdout"
        }
      ]
    },
    {
      "cell_type": "code",
      "metadata": {
        "id": "QhF-UOtcOte1",
        "colab_type": "code",
        "colab": {
          "base_uri": "https://localhost:8080/",
          "height": 187
        },
        "outputId": "8c4479cd-0119-4923-b1e0-40c91ed45cdc"
      },
      "source": [
        "t3"
      ],
      "execution_count": 65,
      "outputs": [
        {
          "output_type": "execute_result",
          "data": {
            "text/plain": [
              "tensor([[ -1.0592, -12.4946, -12.0338,  -6.5528,  -1.7379, -16.5611,   9.2848,\n",
              "           7.1576,  -4.1207,  -6.9489],\n",
              "        [ -4.5072, -15.5858, -15.4199,   2.8232,  10.5785, -15.5846,   4.4661,\n",
              "         -19.8433,   0.1217,  -5.0144],\n",
              "        [  2.8217,   2.0356,  -3.7009,   1.1993,  -5.0093,   3.5292,   6.6322,\n",
              "          -9.4532, -15.8133,  -3.1258],\n",
              "        [  2.1719,  -0.4643,  -7.4518,  10.7623,   6.6971,  -3.5970,  -8.0052,\n",
              "         -10.7011,  -3.4443, -12.2180],\n",
              "        [  0.6295,   5.7265,  -2.2374,   6.0371, -11.9504, -12.0825,   5.4980,\n",
              "          -3.3332, -14.6333,  -2.6428]])"
            ]
          },
          "metadata": {
            "tags": []
          },
          "execution_count": 65
        }
      ]
    },
    {
      "cell_type": "code",
      "metadata": {
        "id": "s7-sVt9bOy_8",
        "colab_type": "code",
        "colab": {}
      },
      "source": [
        "# Einstein summation matmul\n",
        "def einstein_matmul(a, b):\n",
        "  return torch.einsum('ik,kj->ij', a, b)"
      ],
      "execution_count": 0,
      "outputs": []
    },
    {
      "cell_type": "code",
      "metadata": {
        "id": "z1nn_SbOO_F4",
        "colab_type": "code",
        "colab": {}
      },
      "source": [
        "t4 = einstein_matmul(m1, m2)"
      ],
      "execution_count": 0,
      "outputs": []
    },
    {
      "cell_type": "code",
      "metadata": {
        "id": "Qnlnra07PBdf",
        "colab_type": "code",
        "colab": {
          "base_uri": "https://localhost:8080/",
          "height": 187
        },
        "outputId": "971b5c50-c804-4647-ba8a-cd48e5a3611c"
      },
      "source": [
        "t4"
      ],
      "execution_count": 69,
      "outputs": [
        {
          "output_type": "execute_result",
          "data": {
            "text/plain": [
              "tensor([[ -1.0592, -12.4946, -12.0338,  -6.5528,  -1.7379, -16.5611,   9.2848,\n",
              "           7.1576,  -4.1207,  -6.9489],\n",
              "        [ -4.5072, -15.5858, -15.4199,   2.8232,  10.5785, -15.5846,   4.4661,\n",
              "         -19.8433,   0.1218,  -5.0144],\n",
              "        [  2.8217,   2.0356,  -3.7009,   1.1993,  -5.0093,   3.5292,   6.6322,\n",
              "          -9.4532, -15.8133,  -3.1258],\n",
              "        [  2.1719,  -0.4643,  -7.4518,  10.7623,   6.6971,  -3.5970,  -8.0052,\n",
              "         -10.7011,  -3.4443, -12.2180],\n",
              "        [  0.6295,   5.7265,  -2.2374,   6.0371, -11.9504, -12.0825,   5.4980,\n",
              "          -3.3332, -14.6333,  -2.6428]])"
            ]
          },
          "metadata": {
            "tags": []
          },
          "execution_count": 69
        }
      ]
    },
    {
      "cell_type": "code",
      "metadata": {
        "id": "sNji-exKPCR6",
        "colab_type": "code",
        "colab": {}
      },
      "source": [
        "# PyTorch matmul\n",
        "t5 = m1.matmul(m2)"
      ],
      "execution_count": 0,
      "outputs": []
    },
    {
      "cell_type": "code",
      "metadata": {
        "id": "P9KdgLQTPHhQ",
        "colab_type": "code",
        "colab": {
          "base_uri": "https://localhost:8080/",
          "height": 187
        },
        "outputId": "0f524ee4-3ad5-4d20-fb03-d93f8c688abd"
      },
      "source": [
        "t5"
      ],
      "execution_count": 71,
      "outputs": [
        {
          "output_type": "execute_result",
          "data": {
            "text/plain": [
              "tensor([[ -1.0592, -12.4946, -12.0338,  -6.5528,  -1.7379, -16.5611,   9.2848,\n",
              "           7.1576,  -4.1207,  -6.9489],\n",
              "        [ -4.5072, -15.5858, -15.4199,   2.8232,  10.5785, -15.5846,   4.4661,\n",
              "         -19.8433,   0.1218,  -5.0144],\n",
              "        [  2.8217,   2.0356,  -3.7009,   1.1993,  -5.0093,   3.5292,   6.6322,\n",
              "          -9.4532, -15.8133,  -3.1258],\n",
              "        [  2.1719,  -0.4643,  -7.4518,  10.7623,   6.6971,  -3.5970,  -8.0052,\n",
              "         -10.7011,  -3.4443, -12.2180],\n",
              "        [  0.6295,   5.7265,  -2.2374,   6.0371, -11.9504, -12.0825,   5.4980,\n",
              "          -3.3332, -14.6333,  -2.6428]])"
            ]
          },
          "metadata": {
            "tags": []
          },
          "execution_count": 71
        }
      ]
    }
  ]
}